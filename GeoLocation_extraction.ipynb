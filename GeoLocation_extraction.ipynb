{
 "cells": [
  {
   "cell_type": "code",
   "execution_count": 1,
   "metadata": {
    "colab": {
     "base_uri": "https://localhost:8080/",
     "height": 118
    },
    "colab_type": "code",
    "id": "GjZg_ViYeR7n",
    "outputId": "6d533644-e6ee-4ebf-9261-4a5647e57e7e"
   },
   "outputs": [
    {
     "name": "stdout",
     "output_type": "stream",
     "text": [
      "Cloning into 'COVID_testCentres_India'...\n",
      "remote: Enumerating objects: 11, done.\u001b[K\n",
      "remote: Counting objects: 100% (11/11), done.\u001b[K\n",
      "remote: Compressing objects: 100% (8/8), done.\u001b[K\n",
      "remote: Total 11 (delta 1), reused 5 (delta 0), pack-reused 0\u001b[K\n",
      "Unpacking objects: 100% (11/11), done.\n"
     ]
    }
   ],
   "source": [
    "!git clone https://github.com/mukuakhilesh/COVID_testCentres_India.git"
   ]
  },
  {
   "cell_type": "code",
   "execution_count": 1,
   "metadata": {
    "colab": {},
    "colab_type": "code",
    "id": "YiXqpkvzfAPr"
   },
   "outputs": [],
   "source": [
    "import pandas as pd\n",
    "import numpy as np"
   ]
  },
  {
   "cell_type": "code",
   "execution_count": 3,
   "metadata": {
    "colab": {
     "base_uri": "https://localhost:8080/",
     "height": 195
    },
    "colab_type": "code",
    "id": "d3GgT7a1fxIt",
    "outputId": "4fdce52a-082f-405a-901c-7ce9d86cf9cb"
   },
   "outputs": [
    {
     "data": {
      "text/html": [
       "<div>\n",
       "<style scoped>\n",
       "    .dataframe tbody tr th:only-of-type {\n",
       "        vertical-align: middle;\n",
       "    }\n",
       "\n",
       "    .dataframe tbody tr th {\n",
       "        vertical-align: top;\n",
       "    }\n",
       "\n",
       "    .dataframe thead th {\n",
       "        text-align: right;\n",
       "    }\n",
       "</style>\n",
       "<table border=\"1\" class=\"dataframe\">\n",
       "  <thead>\n",
       "    <tr style=\"text-align: right;\">\n",
       "      <th></th>\n",
       "      <th>HotspotID</th>\n",
       "      <th>LabName</th>\n",
       "      <th>Addresses</th>\n",
       "    </tr>\n",
       "  </thead>\n",
       "  <tbody>\n",
       "    <tr>\n",
       "      <th>0</th>\n",
       "      <td>3</td>\n",
       "      <td>Regional Medical Research Centre (ICMR), Port ...</td>\n",
       "      <td>Post Bag 13, Dollygunj, Port Blair, Andaman an...</td>\n",
       "    </tr>\n",
       "    <tr>\n",
       "      <th>1</th>\n",
       "      <td>4</td>\n",
       "      <td>Sri Venkateswara Institute of Medical Sciences...</td>\n",
       "      <td>Sri Venkateswara Institute of Medical Sciences...</td>\n",
       "    </tr>\n",
       "    <tr>\n",
       "      <th>2</th>\n",
       "      <td>5</td>\n",
       "      <td>Sidhartha Medical College, Vijayawada</td>\n",
       "      <td>Siddhartha Medical College, Ring Road, Gunadal...</td>\n",
       "    </tr>\n",
       "    <tr>\n",
       "      <th>3</th>\n",
       "      <td>6</td>\n",
       "      <td>Government Medical College, Anantapur</td>\n",
       "      <td>Government Medical College, Anantapur, Rahamat...</td>\n",
       "    </tr>\n",
       "    <tr>\n",
       "      <th>4</th>\n",
       "      <td>8</td>\n",
       "      <td>Rangaraya Medical College, Kakinada</td>\n",
       "      <td>Rangaraya Medical College, Pithampuram Road, K...</td>\n",
       "    </tr>\n",
       "  </tbody>\n",
       "</table>\n",
       "</div>"
      ],
      "text/plain": [
       "   HotspotID                                            LabName  \\\n",
       "0          3  Regional Medical Research Centre (ICMR), Port ...   \n",
       "1          4  Sri Venkateswara Institute of Medical Sciences...   \n",
       "2          5              Sidhartha Medical College, Vijayawada   \n",
       "3          6              Government Medical College, Anantapur   \n",
       "4          8                Rangaraya Medical College, Kakinada   \n",
       "\n",
       "                                           Addresses  \n",
       "0  Post Bag 13, Dollygunj, Port Blair, Andaman an...  \n",
       "1  Sri Venkateswara Institute of Medical Sciences...  \n",
       "2  Siddhartha Medical College, Ring Road, Gunadal...  \n",
       "3  Government Medical College, Anantapur, Rahamat...  \n",
       "4  Rangaraya Medical College, Pithampuram Road, K...  "
      ]
     },
     "execution_count": 3,
     "metadata": {},
     "output_type": "execute_result"
    }
   ],
   "source": [
    "df = pd.read_csv('IndianCOVID_testCentres_raw.csv')\n",
    "df.head()"
   ]
  },
  {
   "cell_type": "code",
   "execution_count": 7,
   "metadata": {
    "colab": {
     "base_uri": "https://localhost:8080/",
     "height": 34
    },
    "colab_type": "code",
    "id": "92xlTodkyLvH",
    "outputId": "e4f761fa-dfce-4b9b-a5d0-3cb364304c9a"
   },
   "outputs": [
    {
     "data": {
      "text/plain": [
       "0"
      ]
     },
     "execution_count": 7,
     "metadata": {},
     "output_type": "execute_result"
    }
   ],
   "source": [
    "# Checking if any data is repeated\n",
    "df.duplicated(subset=None, keep='first').sum()"
   ]
  },
  {
   "cell_type": "code",
   "execution_count": 8,
   "metadata": {
    "colab": {
     "base_uri": "https://localhost:8080/",
     "height": 84
    },
    "colab_type": "code",
    "id": "AxHhhtougOMD",
    "outputId": "f90eb288-d756-4995-dc4a-de11f97c59c2"
   },
   "outputs": [
    {
     "data": {
      "text/plain": [
       "HotspotID    0\n",
       "LabName      0\n",
       "Addresses    0\n",
       "dtype: int64"
      ]
     },
     "execution_count": 8,
     "metadata": {},
     "output_type": "execute_result"
    }
   ],
   "source": [
    "# Check for presence of invalid data\n",
    "df.isna().sum()"
   ]
  },
  {
   "cell_type": "code",
   "execution_count": 9,
   "metadata": {
    "colab": {
     "base_uri": "https://localhost:8080/",
     "height": 50
    },
    "colab_type": "code",
    "id": "biA2_6s5omgF",
    "outputId": "43f66e78-ca02-4250-f7cd-86fa901e2c09"
   },
   "outputs": [
    {
     "name": "stdout",
     "output_type": "stream",
     "text": [
      "56\n",
      "60\n"
     ]
    }
   ],
   "source": [
    "# Here we separate the name of cities from different centres\n",
    "city = []\n",
    "for i in range(len(df)) :\n",
    "  if len(df['LabName'][i].split(','))>1 :\n",
    "    city.append(df['LabName'][i].split(',')[-1])\n",
    "  else:\n",
    "    city.append(None)\n",
    "    print(i)"
   ]
  },
  {
   "cell_type": "markdown",
   "metadata": {
    "colab_type": "text",
    "id": "QhlrxUNktvIO"
   },
   "source": []
  },
  {
   "cell_type": "code",
   "execution_count": 10,
   "metadata": {
    "colab": {
     "base_uri": "https://localhost:8080/",
     "height": 50
    },
    "colab_type": "code",
    "id": "VbVw97OCs2vS",
    "outputId": "b3abf9ab-811f-4a42-fdd8-8e012c241046"
   },
   "outputs": [
    {
     "name": "stdout",
     "output_type": "stream",
     "text": [
      "Indira Gandhi Government Medical College & Hospital\n",
      "Govt Medical College & Hospital Aurangabad\n"
     ]
    }
   ],
   "source": [
    "#The above two indexes were failed to parse or its city name is not there. So we put it mannualy.\n",
    "print(df['LabName'][56])\n",
    "print(df['LabName'][60])"
   ]
  },
  {
   "cell_type": "code",
   "execution_count": 11,
   "metadata": {
    "colab": {},
    "colab_type": "code",
    "id": "6yxfDLkQtL5a"
   },
   "outputs": [],
   "source": [
    "city[56] = 'Nagpur'\n",
    "city[60]='Aurangabad'\n",
    "city_df = pd.DataFrame(city , columns=['City'])"
   ]
  },
  {
   "cell_type": "code",
   "execution_count": 12,
   "metadata": {
    "colab": {
     "base_uri": "https://localhost:8080/",
     "height": 195
    },
    "colab_type": "code",
    "id": "Cr6bvNh-uThC",
    "outputId": "3e8ab404-7f13-40da-dc19-715e606c2bc8"
   },
   "outputs": [
    {
     "data": {
      "text/html": [
       "<div>\n",
       "<style scoped>\n",
       "    .dataframe tbody tr th:only-of-type {\n",
       "        vertical-align: middle;\n",
       "    }\n",
       "\n",
       "    .dataframe tbody tr th {\n",
       "        vertical-align: top;\n",
       "    }\n",
       "\n",
       "    .dataframe thead th {\n",
       "        text-align: right;\n",
       "    }\n",
       "</style>\n",
       "<table border=\"1\" class=\"dataframe\">\n",
       "  <thead>\n",
       "    <tr style=\"text-align: right;\">\n",
       "      <th></th>\n",
       "      <th>City</th>\n",
       "    </tr>\n",
       "  </thead>\n",
       "  <tbody>\n",
       "    <tr>\n",
       "      <th>0</th>\n",
       "      <td>Port Blair</td>\n",
       "    </tr>\n",
       "    <tr>\n",
       "      <th>1</th>\n",
       "      <td>Tirupati</td>\n",
       "    </tr>\n",
       "    <tr>\n",
       "      <th>2</th>\n",
       "      <td>Vijayawada</td>\n",
       "    </tr>\n",
       "    <tr>\n",
       "      <th>3</th>\n",
       "      <td>Anantapur</td>\n",
       "    </tr>\n",
       "    <tr>\n",
       "      <th>4</th>\n",
       "      <td>Kakinada</td>\n",
       "    </tr>\n",
       "  </tbody>\n",
       "</table>\n",
       "</div>"
      ],
      "text/plain": [
       "           City\n",
       "0   Port Blair \n",
       "1      Tirupati\n",
       "2    Vijayawada\n",
       "3     Anantapur\n",
       "4      Kakinada"
      ]
     },
     "execution_count": 12,
     "metadata": {},
     "output_type": "execute_result"
    }
   ],
   "source": [
    "city_df.head()"
   ]
  },
  {
   "cell_type": "code",
   "execution_count": 13,
   "metadata": {
    "colab": {},
    "colab_type": "code",
    "id": "vq5zbpQVu61f"
   },
   "outputs": [],
   "source": [
    "nw_df = pd.concat([df , city_df],axis=1)"
   ]
  },
  {
   "cell_type": "code",
   "execution_count": 14,
   "metadata": {
    "colab": {},
    "colab_type": "code",
    "id": "JL4kqeVQ18Ed"
   },
   "outputs": [],
   "source": [
    "nw_df.to_csv('Test_centres_cities.csv')"
   ]
  },
  {
   "cell_type": "code",
   "execution_count": 15,
   "metadata": {
    "colab": {
     "base_uri": "https://localhost:8080/",
     "height": 205
    },
    "colab_type": "code",
    "id": "0rJr6YIG18Mx",
    "outputId": "f3a71024-48a6-4faf-bce9-5a6c729e58e9"
   },
   "outputs": [
    {
     "name": "stdout",
     "output_type": "stream",
     "text": [
      "Collecting opencage\n",
      "  Downloading opencage-1.2-py3-none-any.whl (5.6 kB)\n",
      "Requirement already satisfied: Requests>=2.2.0 in c:\\users\\intel\\appdata\\local\\programs\\python\\python37-32\\lib\\site-packages (from opencage) (2.22.0)\n",
      "Requirement already satisfied: six>=1.4.0 in c:\\users\\intel\\appdata\\local\\programs\\python\\python37-32\\lib\\site-packages (from opencage) (1.12.0)\n",
      "Requirement already satisfied: urllib3!=1.25.0,!=1.25.1,<1.26,>=1.21.1 in c:\\users\\intel\\appdata\\local\\programs\\python\\python37-32\\lib\\site-packages (from Requests>=2.2.0->opencage) (1.25.6)\n",
      "Requirement already satisfied: certifi>=2017.4.17 in c:\\users\\intel\\appdata\\local\\programs\\python\\python37-32\\lib\\site-packages (from Requests>=2.2.0->opencage) (2019.9.11)\n",
      "Requirement already satisfied: idna<2.9,>=2.5 in c:\\users\\intel\\appdata\\local\\programs\\python\\python37-32\\lib\\site-packages (from Requests>=2.2.0->opencage) (2.8)\n",
      "Requirement already satisfied: chardet<3.1.0,>=3.0.2 in c:\\users\\intel\\appdata\\local\\programs\\python\\python37-32\\lib\\site-packages (from Requests>=2.2.0->opencage) (3.0.4)\n",
      "Installing collected packages: opencage\n",
      "Successfully installed opencage-1.2\n"
     ]
    }
   ],
   "source": [
    "!pip install opencage"
   ]
  },
  {
   "cell_type": "code",
   "execution_count": 17,
   "metadata": {
    "colab": {
     "base_uri": "https://localhost:8080/",
     "height": 1000
    },
    "colab_type": "code",
    "id": "L32_CrnHvzcz",
    "outputId": "ab61a2f5-9075-4f8f-c463-798a88af5e90"
   },
   "outputs": [],
   "source": [
    "# Here we try to geocode the available addresses using the free API from OpenCage. \n",
    "\n",
    "import sys\n",
    "from opencage.geocoder import OpenCageGeocode\n",
    "\n",
    "key = '2d3f2e96de7c4a2ba3102e054959f247'\n",
    "geocoder = OpenCageGeocode(key)\n",
    "\n",
    "\n",
    "Latitude = []\n",
    "Longitude = []\n",
    "\n",
    "\n",
    "for i in range(len(df)):\n",
    "  query = df['Addresses'][i]\n",
    "  results = geocoder.geocode(query)\n",
    "  if(len(results)>0 and results[0]['components']['country_code']=='in'):         \n",
    "# To check is a valid data is returned and we cross check country code to India as some addresses get mapped to foreign geolocation\n",
    "    Latitude.append(results[0]['geometry']['lat'])\n",
    "    Longitude.append(results[0]['geometry']['lng'])\n",
    "#     print(u'%i; %f; %f; %s; %s' % ( i ,results[0]['geometry']['lat'], \n",
    "#                             results[0]['geometry']['lng'],\n",
    "#                             results[0]['components']['country_code'],\n",
    "#                             results[0]['annotations']['timezone']['name']))\n",
    "  else:\n",
    "    Latitude.append(None)\n",
    "    Longitude.append(None) # Also it is diificult to geoCode some addresses so we enter it as None in dataFrame. In future it would be neede to enter manually."
   ]
  },
  {
   "cell_type": "code",
   "execution_count": 18,
   "metadata": {},
   "outputs": [
    {
     "name": "stdout",
     "output_type": "stream",
     "text": [
      "181 181 181\n"
     ]
    }
   ],
   "source": [
    "print(len(Latitude) , len(Longitude) , len(df))"
   ]
  },
  {
   "cell_type": "code",
   "execution_count": 19,
   "metadata": {
    "colab": {
     "base_uri": "https://localhost:8080/",
     "height": 34
    },
    "colab_type": "code",
    "id": "iKya_-Oy2PVp",
    "outputId": "262d51c7-695b-4348-976e-4fb9fc572113"
   },
   "outputs": [],
   "source": [
    "# Appending all data in one dataframe.\n",
    "\n",
    "lats = pd.DataFrame(Latitude , columns=['Latitude'])\n",
    "lng = pd.DataFrame(Longitude , columns=['Longitude'])\n",
    "\n",
    "nw_df = pd.concat([nw_df , lats , lng ],axis=1)"
   ]
  },
  {
   "cell_type": "code",
   "execution_count": 20,
   "metadata": {
    "colab": {},
    "colab_type": "code",
    "id": "4e5G1k4q4eFA"
   },
   "outputs": [
    {
     "data": {
      "text/html": [
       "<div>\n",
       "<style scoped>\n",
       "    .dataframe tbody tr th:only-of-type {\n",
       "        vertical-align: middle;\n",
       "    }\n",
       "\n",
       "    .dataframe tbody tr th {\n",
       "        vertical-align: top;\n",
       "    }\n",
       "\n",
       "    .dataframe thead th {\n",
       "        text-align: right;\n",
       "    }\n",
       "</style>\n",
       "<table border=\"1\" class=\"dataframe\">\n",
       "  <thead>\n",
       "    <tr style=\"text-align: right;\">\n",
       "      <th></th>\n",
       "      <th>HotspotID</th>\n",
       "      <th>LabName</th>\n",
       "      <th>Addresses</th>\n",
       "      <th>City</th>\n",
       "      <th>Latitude</th>\n",
       "      <th>Longitude</th>\n",
       "    </tr>\n",
       "  </thead>\n",
       "  <tbody>\n",
       "    <tr>\n",
       "      <th>0</th>\n",
       "      <td>3</td>\n",
       "      <td>Regional Medical Research Centre (ICMR), Port ...</td>\n",
       "      <td>Post Bag 13, Dollygunj, Port Blair, Andaman an...</td>\n",
       "      <td>Port Blair</td>\n",
       "      <td>11.66667</td>\n",
       "      <td>92.75000</td>\n",
       "    </tr>\n",
       "    <tr>\n",
       "      <th>1</th>\n",
       "      <td>4</td>\n",
       "      <td>Sri Venkateswara Institute of Medical Sciences...</td>\n",
       "      <td>Sri Venkateswara Institute of Medical Sciences...</td>\n",
       "      <td>Tirupati</td>\n",
       "      <td>17.83333</td>\n",
       "      <td>79.08333</td>\n",
       "    </tr>\n",
       "    <tr>\n",
       "      <th>2</th>\n",
       "      <td>5</td>\n",
       "      <td>Sidhartha Medical College, Vijayawada</td>\n",
       "      <td>Siddhartha Medical College, Ring Road, Gunadal...</td>\n",
       "      <td>Vijayawada</td>\n",
       "      <td>15.83333</td>\n",
       "      <td>79.75000</td>\n",
       "    </tr>\n",
       "    <tr>\n",
       "      <th>3</th>\n",
       "      <td>6</td>\n",
       "      <td>Government Medical College, Anantapur</td>\n",
       "      <td>Government Medical College, Anantapur, Rahamat...</td>\n",
       "      <td>Anantapur</td>\n",
       "      <td>14.67940</td>\n",
       "      <td>77.59880</td>\n",
       "    </tr>\n",
       "    <tr>\n",
       "      <th>4</th>\n",
       "      <td>8</td>\n",
       "      <td>Rangaraya Medical College, Kakinada</td>\n",
       "      <td>Rangaraya Medical College, Pithampuram Road, K...</td>\n",
       "      <td>Kakinada</td>\n",
       "      <td>16.96040</td>\n",
       "      <td>82.23810</td>\n",
       "    </tr>\n",
       "  </tbody>\n",
       "</table>\n",
       "</div>"
      ],
      "text/plain": [
       "   HotspotID                                            LabName  \\\n",
       "0          3  Regional Medical Research Centre (ICMR), Port ...   \n",
       "1          4  Sri Venkateswara Institute of Medical Sciences...   \n",
       "2          5              Sidhartha Medical College, Vijayawada   \n",
       "3          6              Government Medical College, Anantapur   \n",
       "4          8                Rangaraya Medical College, Kakinada   \n",
       "\n",
       "                                           Addresses          City  Latitude  \\\n",
       "0  Post Bag 13, Dollygunj, Port Blair, Andaman an...   Port Blair   11.66667   \n",
       "1  Sri Venkateswara Institute of Medical Sciences...      Tirupati  17.83333   \n",
       "2  Siddhartha Medical College, Ring Road, Gunadal...    Vijayawada  15.83333   \n",
       "3  Government Medical College, Anantapur, Rahamat...     Anantapur  14.67940   \n",
       "4  Rangaraya Medical College, Pithampuram Road, K...      Kakinada  16.96040   \n",
       "\n",
       "   Longitude  \n",
       "0   92.75000  \n",
       "1   79.08333  \n",
       "2   79.75000  \n",
       "3   77.59880  \n",
       "4   82.23810  "
      ]
     },
     "execution_count": 20,
     "metadata": {},
     "output_type": "execute_result"
    }
   ],
   "source": [
    "nw_df.head()"
   ]
  },
  {
   "cell_type": "code",
   "execution_count": 21,
   "metadata": {},
   "outputs": [
    {
     "data": {
      "text/plain": [
       "HotspotID     0\n",
       "LabName       0\n",
       "Addresses     0\n",
       "City          0\n",
       "Latitude     41\n",
       "Longitude    41\n",
       "dtype: int64"
      ]
     },
     "execution_count": 21,
     "metadata": {},
     "output_type": "execute_result"
    }
   ],
   "source": [
    "nw_df.isna().sum()"
   ]
  },
  {
   "cell_type": "code",
   "execution_count": 23,
   "metadata": {},
   "outputs": [],
   "source": [
    "nw_df.to_csv('TestCentres_with_geolocation.csv',index=False)\n",
    "nw_df.to_excel('IndiaTestCentres_with_geolocation.xlsx',index=False)"
   ]
  },
  {
   "cell_type": "code",
   "execution_count": null,
   "metadata": {},
   "outputs": [],
   "source": []
  }
 ],
 "metadata": {
  "colab": {
   "collapsed_sections": [],
   "name": "Welcome To Colaboratory",
   "provenance": [],
   "toc_visible": true
  },
  "kernelspec": {
   "display_name": "Python 3",
   "language": "python",
   "name": "python3"
  },
  "language_info": {
   "codemirror_mode": {
    "name": "ipython",
    "version": 3
   },
   "file_extension": ".py",
   "mimetype": "text/x-python",
   "name": "python",
   "nbconvert_exporter": "python",
   "pygments_lexer": "ipython3",
   "version": "3.7.4"
  }
 },
 "nbformat": 4,
 "nbformat_minor": 4
}
